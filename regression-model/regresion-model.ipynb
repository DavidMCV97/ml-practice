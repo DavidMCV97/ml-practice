{
 "cells": [
  {
   "cell_type": "code",
   "execution_count": null,
   "id": "0",
   "metadata": {},
   "outputs": [],
   "source": [
    "# handling data\n",
    "import numpy as np\n",
    "import pandas as pd\n",
    "\n",
    "# machine learning\n",
    "import keras\n",
    "#import ml_edu.experiment\n",
    "#import ml_edu.results\n",
    "\n",
    "# data visualization\n",
    "import plotly.express as px\n",
    "import plotly.io as pio\n",
    "pio.renderers.default = \"notebook\""
   ]
  },
  {
   "cell_type": "code",
   "execution_count": null,
   "id": "1",
   "metadata": {},
   "outputs": [],
   "source": [
    "# bring dataset from internet\n",
    "chicago_taxi_dataset = pd.read_csv(\"https://download.mlcc.google.com/mledu-datasets/chicago_taxi_train.csv\")\n",
    "\n",
    "# select important columns\n",
    "training_df = chicago_taxi_dataset.loc[:, ('TRIP_MILES', 'TRIP_SECONDS', 'FARE', 'COMPANY', 'PAYMENT_TYPE', 'TIP_RATE')]\n",
    "\n",
    "# print a resume of the dataset\n",
    "# count = num. of non-null values\n",
    "# unique = num. of unique values in categorical variables\n",
    "#top = Most frequent value of categorical variables (mode)\n",
    "#freq = Frequency of the top \n",
    "training_df.describe(include='all')"
   ]
  },
  {
   "cell_type": "code",
   "execution_count": null,
   "id": "2",
   "metadata": {},
   "outputs": [],
   "source": [
    "#visualize correlation matrix\n",
    "training_df.corr(numeric_only = True)"
   ]
  },
  {
   "cell_type": "code",
   "execution_count": null,
   "id": "3",
   "metadata": {},
   "outputs": [],
   "source": [
    "fig = px.scatter_matrix(training_df, dimensions=[\"FARE\", \"TRIP_MILES\", \"TRIP_SECONDS\"])\n",
    "fig.show()"
   ]
  },
  {
   "cell_type": "code",
   "execution_count": null,
   "id": "4",
   "metadata": {},
   "outputs": [],
   "source": [
    "# creamos el modelo usando keras\n",
    "def create_model(settings, metrics: list[keras.metrics.Metric],) -> keras.Model:\n",
    "  inputs = {name: keras.Input(shape=(1,), name=name) for name in settings.input_features}\n",
    "  concatenated_inputs = keras.layers.Concatenate()(list(inputs.values()))\n",
    "  outputs = keras.layers.Dense(units=1)(concatenated_inputs)\n",
    "  model = keras.Model(inputs=inputs, outputs=outputs)\n",
    "  model.compile(optimizer=keras.optimizers.RMSprop(learning_rate=settings.learning_rate),\n",
    "                loss=\"mean_squared_error\",\n",
    "                metrics=metrics)\n",
    "  return model"
   ]
  },
  {
   "cell_type": "code",
   "execution_count": null,
   "id": "5",
   "metadata": {},
   "outputs": [],
   "source": []
  }
 ],
 "metadata": {
  "kernelspec": {
   "display_name": "Python 3 (ipykernel)",
   "language": "python",
   "name": "python3"
  },
  "language_info": {
   "codemirror_mode": {
    "name": "ipython",
    "version": 3
   },
   "file_extension": ".py",
   "mimetype": "text/x-python",
   "name": "python",
   "nbconvert_exporter": "python",
   "pygments_lexer": "ipython3",
   "version": "3.13.1"
  }
 },
 "nbformat": 4,
 "nbformat_minor": 5
}
